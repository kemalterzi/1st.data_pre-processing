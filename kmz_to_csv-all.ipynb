{
 "cells": [
  {
   "cell_type": "code",
   "execution_count": 7,
   "metadata": {},
   "outputs": [],
   "source": [
    "import zipfile\n",
    "import xml.etree.ElementTree as ET\n",
    "import csv"
   ]
  },
  {
   "cell_type": "code",
   "execution_count": 8,
   "metadata": {},
   "outputs": [],
   "source": [
    "def kmz_to_kml(kmz_path):\n",
    "    # KMZ dosyasını açarak içindeki KML dosyasını al\n",
    "    with zipfile.ZipFile(kmz_path, 'r') as kmz:\n",
    "        kml_file = kmz.extract(kmz.namelist()[0])\n",
    "    return kml_file"
   ]
  },
  {
   "cell_type": "code",
   "execution_count": 9,
   "metadata": {},
   "outputs": [],
   "source": [
    "def parse_kml(kml_file):\n",
    "    # KML dosyasını parse et\n",
    "    tree = ET.parse(kml_file)\n",
    "    root = tree.getroot()\n",
    "\n",
    "    # KML dosyasındaki tüm içeriği al\n",
    "    kml_data = ET.tostring(root, encoding='utf-8').decode('utf-8')\n",
    "    \n",
    "    return kml_data"
   ]
  },
  {
   "cell_type": "code",
   "execution_count": 10,
   "metadata": {},
   "outputs": [],
   "source": [
    "def save_to_csv(kml_data, csv_path):\n",
    "    # KML içeriğini CSV dosyasına yaz\n",
    "    with open(csv_path, 'w', newline='', encoding='utf-8') as csvfile:\n",
    "        csvfile.write(kml_data)"
   ]
  },
  {
   "cell_type": "code",
   "execution_count": 11,
   "metadata": {},
   "outputs": [],
   "source": [
    "if __name__ == \"__main__\":\n",
    "    kmz_path = r'/Users/kemalterzi/Desktop/yenigelenler/düzensiz/103_2023 Bisiklet Tamir İstasyonları.kmz'  # KMZ dosya yolu\n",
    "    kml_file = kmz_to_kml(kmz_path)\n",
    "    kml_data = parse_kml(kml_file)\n",
    "    csv_path = 'output.csv'  # CSV dosya yolu\n",
    "    save_to_csv(kml_data, csv_path)"
   ]
  },
  {
   "cell_type": "code",
   "execution_count": null,
   "metadata": {},
   "outputs": [],
   "source": []
  }
 ],
 "metadata": {
  "kernelspec": {
   "display_name": "Python 3",
   "language": "python",
   "name": "python3"
  },
  "language_info": {
   "codemirror_mode": {
    "name": "ipython",
    "version": 3
   },
   "file_extension": ".py",
   "mimetype": "text/x-python",
   "name": "python",
   "nbconvert_exporter": "python",
   "pygments_lexer": "ipython3",
   "version": "3.11.5"
  },
  "orig_nbformat": 4
 },
 "nbformat": 4,
 "nbformat_minor": 2
}
