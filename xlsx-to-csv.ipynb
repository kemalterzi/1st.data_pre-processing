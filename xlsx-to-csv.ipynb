{
 "cells": [
  {
   "cell_type": "code",
   "execution_count": 1,
   "metadata": {},
   "outputs": [],
   "source": [
    "import pandas as pd\n",
    "import numpy as np"
   ]
  },
  {
   "cell_type": "code",
   "execution_count": 20,
   "metadata": {},
   "outputs": [],
   "source": [
    "komek_alan_brans = pd.read_csv(\"_KOMEK Alan ve Branşları.csv\")\n",
    "komek_dersleri = pd.read_csv(\"_KOMEK Dersleri.csv\")\n",
    "komek_merkezleri = pd.read_csv(\"_KOMEK Merkezleri.csv\")\n",
    "itfaiye_grup_amirlilk = pd.read_csv(\"10-İtfaiye_Grup_Amirlik_Sayısı.csv\")\n",
    "gorevli_mufreze = pd.read_csv(\"11-Görevli_Müfreze_Gönüllü.csv\")\n",
    "istasyon_konumlari = pd.read_csv(\"12-İstasyon Konumları.csv\")\n",
    "personel_sayilari = pd.read_csv(\"13-Personel_Sayıları.csv\")"
   ]
  },
  {
   "cell_type": "code",
   "execution_count": 28,
   "metadata": {},
   "outputs": [
    {
     "data": {
      "text/html": [
       "<div>\n",
       "<style scoped>\n",
       "    .dataframe tbody tr th:only-of-type {\n",
       "        vertical-align: middle;\n",
       "    }\n",
       "\n",
       "    .dataframe tbody tr th {\n",
       "        vertical-align: top;\n",
       "    }\n",
       "\n",
       "    .dataframe thead th {\n",
       "        text-align: right;\n",
       "    }\n",
       "</style>\n",
       "<table border=\"1\" class=\"dataframe\">\n",
       "  <thead>\n",
       "    <tr style=\"text-align: right;\">\n",
       "      <th></th>\n",
       "      <th>yil</th>\n",
       "      <th>grup_amirlik_sayisi</th>\n",
       "    </tr>\n",
       "  </thead>\n",
       "  <tbody>\n",
       "    <tr>\n",
       "      <th>0</th>\n",
       "      <td>2019</td>\n",
       "      <td>29</td>\n",
       "    </tr>\n",
       "    <tr>\n",
       "      <th>1</th>\n",
       "      <td>2020</td>\n",
       "      <td>29</td>\n",
       "    </tr>\n",
       "    <tr>\n",
       "      <th>2</th>\n",
       "      <td>2021</td>\n",
       "      <td>29</td>\n",
       "    </tr>\n",
       "    <tr>\n",
       "      <th>3</th>\n",
       "      <td>2022</td>\n",
       "      <td>29</td>\n",
       "    </tr>\n",
       "  </tbody>\n",
       "</table>\n",
       "</div>"
      ],
      "text/plain": [
       "    yil  grup_amirlik_sayisi\n",
       "0  2019                   29\n",
       "1  2020                   29\n",
       "2  2021                   29\n",
       "3  2022                   29"
      ]
     },
     "execution_count": 28,
     "metadata": {},
     "output_type": "execute_result"
    }
   ],
   "source": [
    "itfaiye_grup_amirlilk.head()"
   ]
  },
  {
   "cell_type": "code",
   "execution_count": 24,
   "metadata": {},
   "outputs": [],
   "source": [
    "komek_alan_brans.drop(columns=['Unnamed: 0'], inplace=True)\n",
    "komek_dersleri.drop(columns=['Unnamed: 0'], inplace=True)\n",
    "komek_merkezleri.drop(columns=['Unnamed: 0'], inplace=True)\n",
    "itfaiye_grup_amirlilk.drop(columns=['Unnamed: 0'], inplace=True)\n",
    "gorevli_mufreze.drop(columns=['Unnamed: 0'], inplace=True)\n",
    "istasyon_konumlari.drop(columns=['Unnamed: 0'], inplace=True)\n",
    "personel_sayilari.drop(columns=['Unnamed: 0'], inplace=True)"
   ]
  },
  {
   "cell_type": "code",
   "execution_count": 29,
   "metadata": {},
   "outputs": [],
   "source": [
    "komek_alan_brans.to_csv(\"_KOMEK Alan ve Branşları.csv\" ,header=True ,index=False)\n",
    "komek_dersleri.to_csv(\"_KOMEK Dersleri.csv\" ,header=True ,index=False)\n",
    "komek_merkezleri.to_csv(\"_KOMEK Merkezleri.csv\" ,header=True ,index=False)\n",
    "itfaiye_grup_amirlilk.to_csv(\"10-İtfaiye_Grup_Amirlik_Sayısı.csv\" ,header=True ,index=False)\n",
    "gorevli_mufreze.to_csv(\"11-Görevli_Müfreze_Gönüllü.csv\" ,header=True ,index=False)\n",
    "istasyon_konumlari.to_csv(\"12-İstasyon Konumları.csv\" ,header=True ,index=False)\n",
    "personel_sayilari.to_csv(\"13-Personel_Sayıları.csv\" ,header=True ,index=False)"
   ]
  },
  {
   "cell_type": "code",
   "execution_count": 30,
   "metadata": {},
   "outputs": [],
   "source": [
    "tramvay_km = pd.read_excel(\"49_Tramvay kilometre bilgisi.xlsx\")\n",
    "ik = pd.read_excel(\"120_insan_kaynaklari.xlsx\")"
   ]
  },
  {
   "cell_type": "code",
   "execution_count": 12,
   "metadata": {},
   "outputs": [
    {
     "data": {
      "text/html": [
       "<div>\n",
       "<style scoped>\n",
       "    .dataframe tbody tr th:only-of-type {\n",
       "        vertical-align: middle;\n",
       "    }\n",
       "\n",
       "    .dataframe tbody tr th {\n",
       "        vertical-align: top;\n",
       "    }\n",
       "\n",
       "    .dataframe thead th {\n",
       "        text-align: right;\n",
       "    }\n",
       "</style>\n",
       "<table border=\"1\" class=\"dataframe\">\n",
       "  <thead>\n",
       "    <tr style=\"text-align: right;\">\n",
       "      <th></th>\n",
       "      <th>yil</th>\n",
       "      <th>28T1_tramvayi</th>\n",
       "      <th>28T2_tramvayi</th>\n",
       "    </tr>\n",
       "  </thead>\n",
       "  <tbody>\n",
       "    <tr>\n",
       "      <th>0</th>\n",
       "      <td>2020</td>\n",
       "      <td>209621</td>\n",
       "      <td>22327</td>\n",
       "    </tr>\n",
       "    <tr>\n",
       "      <th>1</th>\n",
       "      <td>2021</td>\n",
       "      <td>323558</td>\n",
       "      <td>36001</td>\n",
       "    </tr>\n",
       "    <tr>\n",
       "      <th>2</th>\n",
       "      <td>2022</td>\n",
       "      <td>368742</td>\n",
       "      <td>34476</td>\n",
       "    </tr>\n",
       "  </tbody>\n",
       "</table>\n",
       "</div>"
      ],
      "text/plain": [
       "    yil  28T1_tramvayi  28T2_tramvayi\n",
       "0  2020         209621          22327\n",
       "1  2021         323558          36001\n",
       "2  2022         368742          34476"
      ]
     },
     "execution_count": 12,
     "metadata": {},
     "output_type": "execute_result"
    }
   ],
   "source": [
    "tramvay_km.head()"
   ]
  },
  {
   "cell_type": "code",
   "execution_count": 14,
   "metadata": {},
   "outputs": [
    {
     "data": {
      "text/plain": [
       "numpy.int64"
      ]
     },
     "execution_count": 14,
     "metadata": {},
     "output_type": "execute_result"
    }
   ],
   "source": [
    "type(tramvay_km[\"28T1_tramvayi\"][1])"
   ]
  },
  {
   "cell_type": "code",
   "execution_count": 7,
   "metadata": {},
   "outputs": [],
   "source": [
    "#yil\n",
    "#28T1_tramvayi\n",
    "#28T2_tramvayi"
   ]
  },
  {
   "cell_type": "code",
   "execution_count": 12,
   "metadata": {},
   "outputs": [],
   "source": [
    "tramvay_km = tramvay_km.drop(tramvay_km.index[0])"
   ]
  },
  {
   "cell_type": "code",
   "execution_count": 10,
   "metadata": {},
   "outputs": [
    {
     "data": {
      "text/plain": [
       "Index(['yil', '28T1_tramvayi', '28T2 TRAMVAYI'], dtype='object')"
      ]
     },
     "execution_count": 10,
     "metadata": {},
     "output_type": "execute_result"
    }
   ],
   "source": [
    "tramvay_km.columns"
   ]
  },
  {
   "cell_type": "code",
   "execution_count": 11,
   "metadata": {},
   "outputs": [],
   "source": [
    "tramvay_km.rename(columns={\"28T2 TRAMVAYI\": \"28T2_tramvayi\"}, inplace=True)"
   ]
  },
  {
   "cell_type": "code",
   "execution_count": 16,
   "metadata": {},
   "outputs": [],
   "source": [
    "tramvay_km.to_csv(\"tramvay_km_bilgisi.csv\" ,header=True ,index=False)"
   ]
  },
  {
   "cell_type": "code",
   "execution_count": 68,
   "metadata": {},
   "outputs": [
    {
     "data": {
      "text/html": [
       "<div>\n",
       "<style scoped>\n",
       "    .dataframe tbody tr th:only-of-type {\n",
       "        vertical-align: middle;\n",
       "    }\n",
       "\n",
       "    .dataframe tbody tr th {\n",
       "        vertical-align: top;\n",
       "    }\n",
       "\n",
       "    .dataframe thead th {\n",
       "        text-align: right;\n",
       "    }\n",
       "</style>\n",
       "<table border=\"1\" class=\"dataframe\">\n",
       "  <thead>\n",
       "    <tr style=\"text-align: right;\">\n",
       "      <th></th>\n",
       "      <th>donem_(yil)</th>\n",
       "      <th>staj_tipi</th>\n",
       "      <th>yaz_donemi_staj_kontenjani</th>\n",
       "      <th>yaz_donemi_staj_yapan_sayisi</th>\n",
       "      <th>tum_donemlerin_staj_kontenjani</th>\n",
       "      <th>tum_donemlerin_staj_yapan_sayisi</th>\n",
       "    </tr>\n",
       "  </thead>\n",
       "  <tbody>\n",
       "    <tr>\n",
       "      <th>0</th>\n",
       "      <td>2017</td>\n",
       "      <td>Üniversite+Lise</td>\n",
       "      <td>30</td>\n",
       "      <td>29</td>\n",
       "      <td>30</td>\n",
       "      <td>30</td>\n",
       "    </tr>\n",
       "    <tr>\n",
       "      <th>1</th>\n",
       "      <td>2018</td>\n",
       "      <td>Üniversite+Lise</td>\n",
       "      <td>90</td>\n",
       "      <td>87</td>\n",
       "      <td>90</td>\n",
       "      <td>87</td>\n",
       "    </tr>\n",
       "    <tr>\n",
       "      <th>2</th>\n",
       "      <td>2019</td>\n",
       "      <td>Üniversite+Lise</td>\n",
       "      <td>70</td>\n",
       "      <td>67</td>\n",
       "      <td>70</td>\n",
       "      <td>67</td>\n",
       "    </tr>\n",
       "    <tr>\n",
       "      <th>3</th>\n",
       "      <td>2020</td>\n",
       "      <td>Üniversite+Lise</td>\n",
       "      <td>40</td>\n",
       "      <td>40</td>\n",
       "      <td>40</td>\n",
       "      <td>40</td>\n",
       "    </tr>\n",
       "    <tr>\n",
       "      <th>4</th>\n",
       "      <td>2021</td>\n",
       "      <td>Üniversite+Lise</td>\n",
       "      <td>70</td>\n",
       "      <td>64</td>\n",
       "      <td>70</td>\n",
       "      <td>64</td>\n",
       "    </tr>\n",
       "  </tbody>\n",
       "</table>\n",
       "</div>"
      ],
      "text/plain": [
       "   donem_(yil)        staj_tipi  yaz_donemi_staj_kontenjani  \\\n",
       "0         2017  Üniversite+Lise                          30   \n",
       "1         2018  Üniversite+Lise                          90   \n",
       "2         2019  Üniversite+Lise                          70   \n",
       "3         2020  Üniversite+Lise                          40   \n",
       "4         2021  Üniversite+Lise                          70   \n",
       "\n",
       "   yaz_donemi_staj_yapan_sayisi  tum_donemlerin_staj_kontenjani  \\\n",
       "0                            29                              30   \n",
       "1                            87                              90   \n",
       "2                            67                              70   \n",
       "3                            40                              40   \n",
       "4                            64                              70   \n",
       "\n",
       "   tum_donemlerin_staj_yapan_sayisi  \n",
       "0                                30  \n",
       "1                                87  \n",
       "2                                67  \n",
       "3                                40  \n",
       "4                                64  "
      ]
     },
     "execution_count": 68,
     "metadata": {},
     "output_type": "execute_result"
    }
   ],
   "source": [
    "ik.head()"
   ]
  },
  {
   "cell_type": "code",
   "execution_count": 52,
   "metadata": {},
   "outputs": [
    {
     "data": {
      "text/plain": [
       "Index(['donem_(yil)', 'staj_tipi', 'yaz_donemi_staj_kontenjani',\n",
       "       'yaz_donemi_staj_yapan_sayisi', 'toplam_donem_staj_kontenjani',\n",
       "       'toplam_donem_staj_yapan_sayisi', 'ucretsiz_staj_yapan_sayisi'],\n",
       "      dtype='object')"
      ]
     },
     "execution_count": 52,
     "metadata": {},
     "output_type": "execute_result"
    }
   ],
   "source": [
    "ik.columns"
   ]
  },
  {
   "cell_type": "code",
   "execution_count": 54,
   "metadata": {},
   "outputs": [],
   "source": [
    "ik.rename(columns={\"toplam_donem_staj_yapan_sayisi\":\"tum_donemlerin_staj_yapan_sayisi\"} ,inplace=True)"
   ]
  },
  {
   "cell_type": "code",
   "execution_count": 67,
   "metadata": {},
   "outputs": [],
   "source": [
    "ik = ik.drop(columns={\"ucretsiz_staj_yapan_sayisi\"})"
   ]
  },
  {
   "cell_type": "code",
   "execution_count": 93,
   "metadata": {},
   "outputs": [],
   "source": [
    "ik.to_csv(\"120-stajyer_sayilari.csv\" ,index=False ,header=True)"
   ]
  },
  {
   "cell_type": "code",
   "execution_count": 71,
   "metadata": {},
   "outputs": [],
   "source": [
    "tarimsal = pd.read_excel(\"61_Tarımsal Destekler.xlsx\")"
   ]
  },
  {
   "cell_type": "code",
   "execution_count": 88,
   "metadata": {},
   "outputs": [
    {
     "data": {
      "text/html": [
       "<div>\n",
       "<style scoped>\n",
       "    .dataframe tbody tr th:only-of-type {\n",
       "        vertical-align: middle;\n",
       "    }\n",
       "\n",
       "    .dataframe tbody tr th {\n",
       "        vertical-align: top;\n",
       "    }\n",
       "\n",
       "    .dataframe thead th {\n",
       "        text-align: right;\n",
       "    }\n",
       "</style>\n",
       "<table border=\"1\" class=\"dataframe\">\n",
       "  <thead>\n",
       "    <tr style=\"text-align: right;\">\n",
       "      <th></th>\n",
       "      <th>yil</th>\n",
       "      <th>verilen_destegin_turu</th>\n",
       "      <th>verilen_destegin_birimi</th>\n",
       "      <th>AÇIKLAMA</th>\n",
       "    </tr>\n",
       "  </thead>\n",
       "  <tbody>\n",
       "    <tr>\n",
       "      <th>0</th>\n",
       "      <td>2014</td>\n",
       "      <td>Fidan Desteklemesi</td>\n",
       "      <td>Adet</td>\n",
       "      <td>Asma, Elma ve Kiraz Meyve Fidan Desteklemesi</td>\n",
       "    </tr>\n",
       "    <tr>\n",
       "      <th>1</th>\n",
       "      <td>2014</td>\n",
       "      <td>Fide Desteklemesi</td>\n",
       "      <td>Adet</td>\n",
       "      <td>Çilek Fidesi ve Malç Naylonu Desteklemesi</td>\n",
       "    </tr>\n",
       "    <tr>\n",
       "      <th>2</th>\n",
       "      <td>2015</td>\n",
       "      <td>Fidan Desteklemesi</td>\n",
       "      <td>Adet</td>\n",
       "      <td>Asma, Elma ve Kiraz Meyve Fidan Desteklemesi</td>\n",
       "    </tr>\n",
       "    <tr>\n",
       "      <th>3</th>\n",
       "      <td>2015</td>\n",
       "      <td>Fide Desteklemesi</td>\n",
       "      <td>Adet</td>\n",
       "      <td>Çilek Fidesi ve Malç Naylonu Desteklemesi</td>\n",
       "    </tr>\n",
       "    <tr>\n",
       "      <th>4</th>\n",
       "      <td>2015</td>\n",
       "      <td>Balıkçılık Desteklemesi</td>\n",
       "      <td>Adet</td>\n",
       "      <td>Göletlere Bırakılmak Üzere Sazan Balık Yavrusu...</td>\n",
       "    </tr>\n",
       "    <tr>\n",
       "      <th>5</th>\n",
       "      <td>2015</td>\n",
       "      <td>Yüksek Telli Terbiye Sistemi</td>\n",
       "      <td>Takım</td>\n",
       "      <td>Üzüm Bağları İçin Yüksek Telli Terbiye Sistemi...</td>\n",
       "    </tr>\n",
       "    <tr>\n",
       "      <th>6</th>\n",
       "      <td>2016</td>\n",
       "      <td>Arıcılık Desteklemesi</td>\n",
       "      <td>Kovan</td>\n",
       "      <td>Arılı Kovan Desteklemesi</td>\n",
       "    </tr>\n",
       "    <tr>\n",
       "      <th>7</th>\n",
       "      <td>2016</td>\n",
       "      <td>Fidan Desteklemesi</td>\n",
       "      <td>Adet</td>\n",
       "      <td>Asma, Elma, Böğürtlen, Erik, Vişne ve Kiraz Me...</td>\n",
       "    </tr>\n",
       "    <tr>\n",
       "      <th>8</th>\n",
       "      <td>2016</td>\n",
       "      <td>Fide Desteklemesi</td>\n",
       "      <td>Adet</td>\n",
       "      <td>Çilek Fidesi ve Malç Naylonu Desteklemesi</td>\n",
       "    </tr>\n",
       "    <tr>\n",
       "      <th>9</th>\n",
       "      <td>2016</td>\n",
       "      <td>Tohum Desteklemesi</td>\n",
       "      <td>Kg</td>\n",
       "      <td>Çörek Otu ve Patates Tohumu Desteklemesi</td>\n",
       "    </tr>\n",
       "    <tr>\n",
       "      <th>10</th>\n",
       "      <td>2016</td>\n",
       "      <td>Tarımsal Makine ve Ekipman Desteklemesi</td>\n",
       "      <td>Adet</td>\n",
       "      <td>Selektör ve Büyükbaş Hayvan Tırnak Kesme Makinesi</td>\n",
       "    </tr>\n",
       "    <tr>\n",
       "      <th>11</th>\n",
       "      <td>2016</td>\n",
       "      <td>Yüksek Telli Terbiye Sistemi</td>\n",
       "      <td>Takım</td>\n",
       "      <td>Üzüm Bağları İçin Yüksek Telli Terbiye Sistemi...</td>\n",
       "    </tr>\n",
       "    <tr>\n",
       "      <th>12</th>\n",
       "      <td>2017</td>\n",
       "      <td>Fidan Desteklemesi</td>\n",
       "      <td>Adet</td>\n",
       "      <td>Asma, Elma, Böğürtlen, Ahududu, Gojıberry, Viş...</td>\n",
       "    </tr>\n",
       "    <tr>\n",
       "      <th>13</th>\n",
       "      <td>2017</td>\n",
       "      <td>Arıcılık Desteklemesi</td>\n",
       "      <td>Kovan</td>\n",
       "      <td>Arılı Kovan Desteklemesi</td>\n",
       "    </tr>\n",
       "    <tr>\n",
       "      <th>14</th>\n",
       "      <td>2017</td>\n",
       "      <td>Tarımsal Makine ve Ekipman Desteklemesi</td>\n",
       "      <td>Adet</td>\n",
       "      <td>Selektör, Üzüm Sıkma, Balya Paketleme Makinesi...</td>\n",
       "    </tr>\n",
       "    <tr>\n",
       "      <th>15</th>\n",
       "      <td>2017</td>\n",
       "      <td>Fide Desteklemesi</td>\n",
       "      <td>Adet</td>\n",
       "      <td>Lavanta Fidesi, Çilek Fidesi ve Malç Naylonu D...</td>\n",
       "    </tr>\n",
       "    <tr>\n",
       "      <th>16</th>\n",
       "      <td>2017</td>\n",
       "      <td>Yüksek Telli Terbiye Sistemi</td>\n",
       "      <td>Takım</td>\n",
       "      <td>Üzüm Bağları İçin Yüksek Telli Terbiye Sistemi...</td>\n",
       "    </tr>\n",
       "    <tr>\n",
       "      <th>17</th>\n",
       "      <td>2018</td>\n",
       "      <td>Fidan Desteklemesi</td>\n",
       "      <td>Adet</td>\n",
       "      <td>Asma, Elma, Böğürtlen, Ahududu, Vişne ve Kiraz...</td>\n",
       "    </tr>\n",
       "    <tr>\n",
       "      <th>18</th>\n",
       "      <td>2018</td>\n",
       "      <td>Fide Desteklemesi</td>\n",
       "      <td>Adet</td>\n",
       "      <td>Çilek Fidesi ve Malç Naylonu Desteklemesi</td>\n",
       "    </tr>\n",
       "    <tr>\n",
       "      <th>19</th>\n",
       "      <td>2018</td>\n",
       "      <td>Arıcılık Desteklemesi</td>\n",
       "      <td>Adet</td>\n",
       "      <td>Plastik Arı Kovan Altlığı</td>\n",
       "    </tr>\n",
       "  </tbody>\n",
       "</table>\n",
       "</div>"
      ],
      "text/plain": [
       "     yil                    verilen_destegin_turu verilen_destegin_birimi  \\\n",
       "0   2014                       Fidan Desteklemesi                    Adet   \n",
       "1   2014                        Fide Desteklemesi                    Adet   \n",
       "2   2015                       Fidan Desteklemesi                    Adet   \n",
       "3   2015                        Fide Desteklemesi                    Adet   \n",
       "4   2015                  Balıkçılık Desteklemesi                    Adet   \n",
       "5   2015             Yüksek Telli Terbiye Sistemi                   Takım   \n",
       "6   2016                    Arıcılık Desteklemesi                   Kovan   \n",
       "7   2016                       Fidan Desteklemesi                    Adet   \n",
       "8   2016                        Fide Desteklemesi                    Adet   \n",
       "9   2016                       Tohum Desteklemesi                      Kg   \n",
       "10  2016  Tarımsal Makine ve Ekipman Desteklemesi                    Adet   \n",
       "11  2016             Yüksek Telli Terbiye Sistemi                   Takım   \n",
       "12  2017                       Fidan Desteklemesi                    Adet   \n",
       "13  2017                    Arıcılık Desteklemesi                   Kovan   \n",
       "14  2017  Tarımsal Makine ve Ekipman Desteklemesi                    Adet   \n",
       "15  2017                        Fide Desteklemesi                    Adet   \n",
       "16  2017             Yüksek Telli Terbiye Sistemi                   Takım   \n",
       "17  2018                       Fidan Desteklemesi                    Adet   \n",
       "18  2018                        Fide Desteklemesi                    Adet   \n",
       "19  2018                    Arıcılık Desteklemesi                    Adet   \n",
       "\n",
       "                                             AÇIKLAMA  \n",
       "0        Asma, Elma ve Kiraz Meyve Fidan Desteklemesi  \n",
       "1           Çilek Fidesi ve Malç Naylonu Desteklemesi  \n",
       "2        Asma, Elma ve Kiraz Meyve Fidan Desteklemesi  \n",
       "3           Çilek Fidesi ve Malç Naylonu Desteklemesi  \n",
       "4   Göletlere Bırakılmak Üzere Sazan Balık Yavrusu...  \n",
       "5   Üzüm Bağları İçin Yüksek Telli Terbiye Sistemi...  \n",
       "6                            Arılı Kovan Desteklemesi  \n",
       "7   Asma, Elma, Böğürtlen, Erik, Vişne ve Kiraz Me...  \n",
       "8           Çilek Fidesi ve Malç Naylonu Desteklemesi  \n",
       "9            Çörek Otu ve Patates Tohumu Desteklemesi  \n",
       "10  Selektör ve Büyükbaş Hayvan Tırnak Kesme Makinesi  \n",
       "11  Üzüm Bağları İçin Yüksek Telli Terbiye Sistemi...  \n",
       "12  Asma, Elma, Böğürtlen, Ahududu, Gojıberry, Viş...  \n",
       "13                           Arılı Kovan Desteklemesi  \n",
       "14  Selektör, Üzüm Sıkma, Balya Paketleme Makinesi...  \n",
       "15  Lavanta Fidesi, Çilek Fidesi ve Malç Naylonu D...  \n",
       "16  Üzüm Bağları İçin Yüksek Telli Terbiye Sistemi...  \n",
       "17  Asma, Elma, Böğürtlen, Ahududu, Vişne ve Kiraz...  \n",
       "18          Çilek Fidesi ve Malç Naylonu Desteklemesi  \n",
       "19                          Plastik Arı Kovan Altlığı  "
      ]
     },
     "execution_count": 88,
     "metadata": {},
     "output_type": "execute_result"
    }
   ],
   "source": [
    "tarimsal.head(20)"
   ]
  },
  {
   "cell_type": "code",
   "execution_count": 73,
   "metadata": {},
   "outputs": [
    {
     "data": {
      "text/plain": [
       "Index(['Veri Seti ID', 'YIL', 'TİP', 'ETİKET', 'VERİ BİRİMİ',\n",
       "       'VERİ ÖLÇÜM YÖNTEMİ', 'GEÇERLİ DEĞER ALANI', 'AÇIKLAMA'],\n",
       "      dtype='object')"
      ]
     },
     "execution_count": 73,
     "metadata": {},
     "output_type": "execute_result"
    }
   ],
   "source": [
    "tarimsal.columns"
   ]
  },
  {
   "cell_type": "code",
   "execution_count": 75,
   "metadata": {},
   "outputs": [],
   "source": [
    "tarimsal.drop(columns={\"Veri Seti ID\",\"TİP\",\"VERİ ÖLÇÜM YÖNTEMİ\",\"GEÇERLİ DEĞER ALANI\"} ,inplace=True)"
   ]
  },
  {
   "cell_type": "code",
   "execution_count": 89,
   "metadata": {},
   "outputs": [],
   "source": [
    "tarimsal.rename(columns={\"AÇIKLAMA\":\"aciklama\"} ,inplace=True)"
   ]
  },
  {
   "cell_type": "code",
   "execution_count": 90,
   "metadata": {},
   "outputs": [
    {
     "data": {
      "text/plain": [
       "numpy.int64"
      ]
     },
     "execution_count": 90,
     "metadata": {},
     "output_type": "execute_result"
    }
   ],
   "source": [
    "type(tarimsal[\"yil\"][0])"
   ]
  },
  {
   "cell_type": "code",
   "execution_count": 97,
   "metadata": {},
   "outputs": [],
   "source": [
    "tarimsal.to_csv(\"61-tarimsal_destekler.csv\")"
   ]
  },
  {
   "cell_type": "code",
   "execution_count": 32,
   "metadata": {},
   "outputs": [],
   "source": [
    "evde_bakim = pd.read_excel(\"66_Evde Bakım Hizmetleri.xlsx\")"
   ]
  },
  {
   "cell_type": "code",
   "execution_count": 36,
   "metadata": {},
   "outputs": [],
   "source": [
    "evde_bakim['Medikal Malzeme Tamiri - YADEM'] = evde_bakim['Medikal Malzeme Tamiri - YADEM'].astype('Int64')\n",
    "evde_bakim['Medikal Malzeme Destegi - ENDEM'] = evde_bakim['Medikal Malzeme Destegi - ENDEM'].astype('Int64')\n",
    "evde_bakim['Sosyal Aktivite - YADEM'] = evde_bakim['Sosyal Aktivite - YADEM'].astype('Int64')\n",
    "evde_bakim['Sosyal Aktivite - ENDEM'] = evde_bakim['Sosyal Aktivite - ENDEM'].astype('Int64')\n",
    "evde_bakim['Araç Destegi - YADEM'] = evde_bakim['Araç Destegi - YADEM'].astype('Int64')\n",
    "evde_bakim['Özel Gençler Mehter Takımı - ENDEM'] = evde_bakim['Özel Gençler Mehter Takımı - ENDEM'].astype('Int64')"
   ]
  },
  {
   "cell_type": "code",
   "execution_count": 39,
   "metadata": {},
   "outputs": [],
   "source": [
    "evde_bakim['ay_yil'] = evde_bakim['yil'].astype(str) + '-' + evde_bakim['ay'].astype(str).str.zfill(2)"
   ]
  },
  {
   "cell_type": "code",
   "execution_count": 41,
   "metadata": {},
   "outputs": [],
   "source": [
    "evde_bakim['ay_yil'] = pd.to_datetime(evde_bakim['ay_yil'])"
   ]
  },
  {
   "cell_type": "code",
   "execution_count": 43,
   "metadata": {},
   "outputs": [],
   "source": [
    "evde_bakim['ay_yil'] = evde_bakim['ay_yil'].dt.to_period('M')"
   ]
  },
  {
   "cell_type": "code",
   "execution_count": 61,
   "metadata": {},
   "outputs": [
    {
     "data": {
      "text/html": [
       "<div>\n",
       "<style scoped>\n",
       "    .dataframe tbody tr th:only-of-type {\n",
       "        vertical-align: middle;\n",
       "    }\n",
       "\n",
       "    .dataframe tbody tr th {\n",
       "        vertical-align: top;\n",
       "    }\n",
       "\n",
       "    .dataframe thead th {\n",
       "        text-align: right;\n",
       "    }\n",
       "</style>\n",
       "<table border=\"1\" class=\"dataframe\">\n",
       "  <thead>\n",
       "    <tr style=\"text-align: right;\">\n",
       "      <th></th>\n",
       "      <th>ay_yil</th>\n",
       "      <th>ev_ziyareti-YADEM</th>\n",
       "      <th>ev_ziyareti-ENDEM</th>\n",
       "      <th>medikal_malzeme_destegi-YADEM</th>\n",
       "      <th>medikal_malzeme_destegi-ENDEM</th>\n",
       "      <th>medikal_malzeme_tamiri-YADEM</th>\n",
       "      <th>medikal_malzeme_tamiri-ENDEM</th>\n",
       "      <th>sosyal_aktivite-YADEM</th>\n",
       "      <th>sosyal_aktivite-ENDEM</th>\n",
       "      <th>arac_destegi-YADEM</th>\n",
       "      <th>arac_destegi-ENDEM</th>\n",
       "      <th>ozel_gencler_mehter_takimi_gosterisi-ENDEM</th>\n",
       "      <th>kisisel_bakim_ve_evde_temizlik-YADEM</th>\n",
       "      <th>kisisel_bakim_ve_evde_temizlik-ENDEM</th>\n",
       "      <th>ambulans_hizmeti-YADEM</th>\n",
       "      <th>ambulans_hizmeti-ENDEM</th>\n",
       "    </tr>\n",
       "  </thead>\n",
       "  <tbody>\n",
       "    <tr>\n",
       "      <th>0</th>\n",
       "      <td>2023-01</td>\n",
       "      <td>22</td>\n",
       "      <td>13</td>\n",
       "      <td>3</td>\n",
       "      <td>2</td>\n",
       "      <td>&lt;NA&gt;</td>\n",
       "      <td>3</td>\n",
       "      <td>&lt;NA&gt;</td>\n",
       "      <td>5</td>\n",
       "      <td>&lt;NA&gt;</td>\n",
       "      <td>15</td>\n",
       "      <td>2</td>\n",
       "      <td>109</td>\n",
       "      <td>27</td>\n",
       "      <td>11</td>\n",
       "      <td>96</td>\n",
       "    </tr>\n",
       "    <tr>\n",
       "      <th>1</th>\n",
       "      <td>2023-02</td>\n",
       "      <td>24</td>\n",
       "      <td>21</td>\n",
       "      <td>3</td>\n",
       "      <td>22</td>\n",
       "      <td>&lt;NA&gt;</td>\n",
       "      <td>&lt;NA&gt;</td>\n",
       "      <td>&lt;NA&gt;</td>\n",
       "      <td>&lt;NA&gt;</td>\n",
       "      <td>&lt;NA&gt;</td>\n",
       "      <td>12</td>\n",
       "      <td>&lt;NA&gt;</td>\n",
       "      <td>97</td>\n",
       "      <td>15</td>\n",
       "      <td>1</td>\n",
       "      <td>54</td>\n",
       "    </tr>\n",
       "    <tr>\n",
       "      <th>2</th>\n",
       "      <td>2023-03</td>\n",
       "      <td>30</td>\n",
       "      <td>23</td>\n",
       "      <td>4</td>\n",
       "      <td>7</td>\n",
       "      <td>1</td>\n",
       "      <td>4</td>\n",
       "      <td>2</td>\n",
       "      <td>1</td>\n",
       "      <td>&lt;NA&gt;</td>\n",
       "      <td>13</td>\n",
       "      <td>&lt;NA&gt;</td>\n",
       "      <td>146</td>\n",
       "      <td>45</td>\n",
       "      <td>3</td>\n",
       "      <td>69</td>\n",
       "    </tr>\n",
       "    <tr>\n",
       "      <th>3</th>\n",
       "      <td>2023-04</td>\n",
       "      <td>14</td>\n",
       "      <td>23</td>\n",
       "      <td>3</td>\n",
       "      <td>10</td>\n",
       "      <td>&lt;NA&gt;</td>\n",
       "      <td>2</td>\n",
       "      <td>&lt;NA&gt;</td>\n",
       "      <td>&lt;NA&gt;</td>\n",
       "      <td>&lt;NA&gt;</td>\n",
       "      <td>14</td>\n",
       "      <td>&lt;NA&gt;</td>\n",
       "      <td>159</td>\n",
       "      <td>51</td>\n",
       "      <td>3</td>\n",
       "      <td>59</td>\n",
       "    </tr>\n",
       "    <tr>\n",
       "      <th>4</th>\n",
       "      <td>2023-05</td>\n",
       "      <td>25</td>\n",
       "      <td>25</td>\n",
       "      <td>7</td>\n",
       "      <td>12</td>\n",
       "      <td>&lt;NA&gt;</td>\n",
       "      <td>3</td>\n",
       "      <td>&lt;NA&gt;</td>\n",
       "      <td>2</td>\n",
       "      <td>&lt;NA&gt;</td>\n",
       "      <td>15</td>\n",
       "      <td>17</td>\n",
       "      <td>157</td>\n",
       "      <td>56</td>\n",
       "      <td>9</td>\n",
       "      <td>55</td>\n",
       "    </tr>\n",
       "    <tr>\n",
       "      <th>5</th>\n",
       "      <td>2023-06</td>\n",
       "      <td>15</td>\n",
       "      <td>16</td>\n",
       "      <td>4</td>\n",
       "      <td>4</td>\n",
       "      <td>&lt;NA&gt;</td>\n",
       "      <td>1</td>\n",
       "      <td>&lt;NA&gt;</td>\n",
       "      <td>2</td>\n",
       "      <td>&lt;NA&gt;</td>\n",
       "      <td>18</td>\n",
       "      <td>10</td>\n",
       "      <td>120</td>\n",
       "      <td>60</td>\n",
       "      <td>3</td>\n",
       "      <td>38</td>\n",
       "    </tr>\n",
       "    <tr>\n",
       "      <th>6</th>\n",
       "      <td>2023-07</td>\n",
       "      <td>21</td>\n",
       "      <td>19</td>\n",
       "      <td>7</td>\n",
       "      <td>5</td>\n",
       "      <td>1</td>\n",
       "      <td>2</td>\n",
       "      <td>&lt;NA&gt;</td>\n",
       "      <td>8</td>\n",
       "      <td>&lt;NA&gt;</td>\n",
       "      <td>2</td>\n",
       "      <td>9</td>\n",
       "      <td>190</td>\n",
       "      <td>79</td>\n",
       "      <td>3</td>\n",
       "      <td>33</td>\n",
       "    </tr>\n",
       "  </tbody>\n",
       "</table>\n",
       "</div>"
      ],
      "text/plain": [
       "    ay_yil  ev_ziyareti-YADEM  ev_ziyareti-ENDEM  \\\n",
       "0  2023-01                 22                 13   \n",
       "1  2023-02                 24                 21   \n",
       "2  2023-03                 30                 23   \n",
       "3  2023-04                 14                 23   \n",
       "4  2023-05                 25                 25   \n",
       "5  2023-06                 15                 16   \n",
       "6  2023-07                 21                 19   \n",
       "\n",
       "   medikal_malzeme_destegi-YADEM  medikal_malzeme_destegi-ENDEM  \\\n",
       "0                              3                              2   \n",
       "1                              3                             22   \n",
       "2                              4                              7   \n",
       "3                              3                             10   \n",
       "4                              7                             12   \n",
       "5                              4                              4   \n",
       "6                              7                              5   \n",
       "\n",
       "   medikal_malzeme_tamiri-YADEM  medikal_malzeme_tamiri-ENDEM  \\\n",
       "0                          <NA>                             3   \n",
       "1                          <NA>                          <NA>   \n",
       "2                             1                             4   \n",
       "3                          <NA>                             2   \n",
       "4                          <NA>                             3   \n",
       "5                          <NA>                             1   \n",
       "6                             1                             2   \n",
       "\n",
       "   sosyal_aktivite-YADEM  sosyal_aktivite-ENDEM  arac_destegi-YADEM  \\\n",
       "0                   <NA>                      5                <NA>   \n",
       "1                   <NA>                   <NA>                <NA>   \n",
       "2                      2                      1                <NA>   \n",
       "3                   <NA>                   <NA>                <NA>   \n",
       "4                   <NA>                      2                <NA>   \n",
       "5                   <NA>                      2                <NA>   \n",
       "6                   <NA>                      8                <NA>   \n",
       "\n",
       "   arac_destegi-ENDEM  ozel_gencler_mehter_takimi_gosterisi-ENDEM  \\\n",
       "0                  15                                           2   \n",
       "1                  12                                        <NA>   \n",
       "2                  13                                        <NA>   \n",
       "3                  14                                        <NA>   \n",
       "4                  15                                          17   \n",
       "5                  18                                          10   \n",
       "6                   2                                           9   \n",
       "\n",
       "   kisisel_bakim_ve_evde_temizlik-YADEM  kisisel_bakim_ve_evde_temizlik-ENDEM  \\\n",
       "0                                   109                                    27   \n",
       "1                                    97                                    15   \n",
       "2                                   146                                    45   \n",
       "3                                   159                                    51   \n",
       "4                                   157                                    56   \n",
       "5                                   120                                    60   \n",
       "6                                   190                                    79   \n",
       "\n",
       "   ambulans_hizmeti-YADEM  ambulans_hizmeti-ENDEM  \n",
       "0                      11                      96  \n",
       "1                       1                      54  \n",
       "2                       3                      69  \n",
       "3                       3                      59  \n",
       "4                       9                      55  \n",
       "5                       3                      38  \n",
       "6                       3                      33  "
      ]
     },
     "execution_count": 61,
     "metadata": {},
     "output_type": "execute_result"
    }
   ],
   "source": [
    "evde_bakim.head(20)"
   ]
  },
  {
   "cell_type": "code",
   "execution_count": 45,
   "metadata": {},
   "outputs": [],
   "source": [
    "evde_bakim = evde_bakim.drop(columns={\"ay\",\"yil\"})"
   ]
  },
  {
   "cell_type": "code",
   "execution_count": 48,
   "metadata": {},
   "outputs": [],
   "source": [
    "evde_bakim = evde_bakim[['ay_yil','Evde Ziyareti - YADEM', 'Evde Ziyareti - ENDEM',\n",
    "       'Medikal Malzeme Destegi - YADEM', 'Medikal Malzeme Destegi - ENDEM',\n",
    "       'Medikal Malzeme Tamiri - YADEM', 'Medikal Malzeme Tamiri - ENDEM',\n",
    "       'Sosyal Aktivite - YADEM', 'Sosyal Aktivite - ENDEM',\n",
    "       'Araç Destegi - YADEM', 'Araç Destegi - ENDEM',\n",
    "       'Özel Gençler Mehter Takımı - ENDEM',\n",
    "       'Kişisel Bakım ve Evde Temizlik - YADEM',\n",
    "       'Kişisel Bakım ve Evde Temizlik - ENDEM', 'Ambulans Hizmeti - YADEM',\n",
    "       'Ambulans Hizmeti - ENDEM']]"
   ]
  },
  {
   "cell_type": "code",
   "execution_count": 51,
   "metadata": {},
   "outputs": [],
   "source": [
    "evde_bakim = evde_bakim.rename(columns={\n",
    "    'Evde Ziyareti - YADEM' : 'ev_ziyareti-YADEM',\n",
    "    'Evde Ziyareti - ENDEM' : 'ev_ziyareti-ENDEM',\n",
    "    'Medikal Malzeme Destegi - YADEM' : 'medikal_malzeme_destegi-YADEM',\n",
    "    'Medikal Malzeme Destegi - ENDEM' : 'medikal_malzeme_destegi-ENDEM',\n",
    "    'Medikal Malzeme Tamiri - YADEM' : 'medikal_malzeme_tamiri-YADEM',\n",
    "    'Medikal Malzeme Tamiri - ENDEM' : 'medikal_malzeme_tamiri-ENDEM',\n",
    "    'Sosyal Aktivite - YADEM' :'sosyal_aktivite-YADEM',\n",
    "    'Sosyal Aktivite - ENDEM' :'sosyal_aktivite-ENDEM',\n",
    "    'Araç Destegi - YADEM' : 'arac_destegi-YADEM',\n",
    "    'Araç Destegi - ENDEM' : 'arac_destegi-ENDEM',\n",
    "    'Özel Gençler Mehter Takımı - ENDEM' : 'ozel_gencler_mehter_takimi_gosterisi-ENDEM',\n",
    "    'Kişisel Bakım ve Evde Temizlik - YADEM' : 'kisisel_bakim_ve_evde_temizlik-YADEM',\n",
    "    'Kişisel Bakım ve Evde Temizlik - ENDEM' : 'kisisel_bakim_ve_evde_temizlik-ENDEM',\n",
    "    'Ambulans Hizmeti - YADEM' : 'ambulans_hizmeti-YADEM',\n",
    "    'Ambulans Hizmeti - ENDEM' : 'ambulans_hizmeti-ENDEM',\n",
    "})"
   ]
  },
  {
   "cell_type": "code",
   "execution_count": 58,
   "metadata": {},
   "outputs": [
    {
     "data": {
      "text/plain": [
       "Index(['ay_yil', 'ev_ziyareti-YADEM', 'ev_ziyareti-ENDEM',\n",
       "       'medikal_malzeme_destegi-YADEM', 'medikal_malzeme_destegi-ENDEM',\n",
       "       'medikal_malzeme_tamiri-YADEM', 'medikal_malzeme_tamiri-ENDEM',\n",
       "       'sosyal_aktivite-YADEM', 'sosyal_aktivite-ENDEM', 'arac_destegi-YADEM',\n",
       "       'arac_destegi-ENDEM', 'ozel_gencler_mehter_takimi_gosterisi-ENDEM',\n",
       "       'kisisel_bakim_ve_evde_temizlik-YADEM',\n",
       "       'kisisel_bakim_ve_evde_temizlik-ENDEM', 'ambulans_hizmeti-YADEM',\n",
       "       'ambulans_hizmeti-ENDEM'],\n",
       "      dtype='object')"
      ]
     },
     "execution_count": 58,
     "metadata": {},
     "output_type": "execute_result"
    }
   ],
   "source": [
    "evde_bakim.columns"
   ]
  },
  {
   "cell_type": "code",
   "execution_count": 59,
   "metadata": {},
   "outputs": [],
   "source": [
    "evde_bakim['medikal_malzeme_tamiri-ENDEM'] = evde_bakim['medikal_malzeme_tamiri-ENDEM'].astype('Int64')"
   ]
  },
  {
   "cell_type": "code",
   "execution_count": 62,
   "metadata": {},
   "outputs": [],
   "source": [
    "evde_bakim.to_csv(\"66-evde_bakim_hizmetleri.csv\" ,header=True ,index=False)"
   ]
  },
  {
   "cell_type": "code",
   "execution_count": null,
   "metadata": {},
   "outputs": [],
   "source": []
  }
 ],
 "metadata": {
  "kernelspec": {
   "display_name": "Python 3",
   "language": "python",
   "name": "python3"
  },
  "language_info": {
   "codemirror_mode": {
    "name": "ipython",
    "version": 3
   },
   "file_extension": ".py",
   "mimetype": "text/x-python",
   "name": "python",
   "nbconvert_exporter": "python",
   "pygments_lexer": "ipython3",
   "version": "3.11.5"
  },
  "orig_nbformat": 4
 },
 "nbformat": 4,
 "nbformat_minor": 2
}
