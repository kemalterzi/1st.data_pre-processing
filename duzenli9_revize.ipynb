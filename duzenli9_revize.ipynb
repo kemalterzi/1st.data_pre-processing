{
 "cells": [
  {
   "cell_type": "code",
   "execution_count": 1,
   "metadata": {},
   "outputs": [],
   "source": [
    "import pandas as pd\n",
    "import numpy as np"
   ]
  },
  {
   "cell_type": "code",
   "execution_count": 2,
   "metadata": {},
   "outputs": [],
   "source": [
    "komek_alan_brans=pd.read_excel(\"_KOMEK Alan ve Branşları.xlsx\")\n",
    "komek_dersler=pd.read_excel(\"_KOMEK Dersleri.xlsx\")\n",
    "komek_merkezler=pd.read_excel(\"_KOMEK Merkezleri.xlsx\")\n",
    "df10=pd.read_excel(\"10-İtfaiye_Grup_Amirlik_Sayısı.xlsx\")\n",
    "df11=pd.read_excel(\"11-Görevli_Müfreze_Gönüllü.xlsx\")\n",
    "df12=pd.read_excel(\"12-İstasyon Konumları.xlsx\")\n",
    "df13=pd.read_excel(\"13-Personel_Sayıları.xlsx\")\n",
    "df49=pd.read_excel(\"49_Tramvay kilometre bilgisi.xlsx\")\n",
    "df120=pd.read_excel(\"120_insan_kaynaklari.xlsx\")"
   ]
  },
  {
   "cell_type": "code",
   "execution_count": 90,
   "metadata": {},
   "outputs": [
    {
     "name": "stdout",
     "output_type": "stream",
     "text": [
      "<class 'pandas.core.frame.DataFrame'>\n",
      "RangeIndex: 7 entries, 0 to 6\n",
      "Data columns (total 7 columns):\n",
      " #   Column                        Non-Null Count  Dtype \n",
      "---  ------                        --------------  ----- \n",
      " 0   Dönem(Yıl)                    7 non-null      int64 \n",
      " 1   Staj Tipi                     7 non-null      object\n",
      " 2   Yaz Dönemi Staj Kontenjanı    7 non-null      int64 \n",
      " 3   Yaz Dönemi Staj Yapan Sayısı  7 non-null      int64 \n",
      " 4   Dönem Staj Kontenjanı         7 non-null      int64 \n",
      " 5   Dönem Staj Yapan Sayısı       7 non-null      int64 \n",
      " 6   Ücretsiz Staj Sayısı          7 non-null      object\n",
      "dtypes: int64(5), object(2)\n",
      "memory usage: 524.0+ bytes\n"
     ]
    }
   ],
   "source": [
    "df120.info()"
   ]
  },
  {
   "cell_type": "code",
   "execution_count": 91,
   "metadata": {},
   "outputs": [
    {
     "data": {
      "text/html": [
       "<div>\n",
       "<style scoped>\n",
       "    .dataframe tbody tr th:only-of-type {\n",
       "        vertical-align: middle;\n",
       "    }\n",
       "\n",
       "    .dataframe tbody tr th {\n",
       "        vertical-align: top;\n",
       "    }\n",
       "\n",
       "    .dataframe thead th {\n",
       "        text-align: right;\n",
       "    }\n",
       "</style>\n",
       "<table border=\"1\" class=\"dataframe\">\n",
       "  <thead>\n",
       "    <tr style=\"text-align: right;\">\n",
       "      <th></th>\n",
       "      <th>Dönem(Yıl)</th>\n",
       "      <th>Staj Tipi</th>\n",
       "      <th>Yaz Dönemi Staj Kontenjanı</th>\n",
       "      <th>Yaz Dönemi Staj Yapan Sayısı</th>\n",
       "      <th>Dönem Staj Kontenjanı</th>\n",
       "      <th>Dönem Staj Yapan Sayısı</th>\n",
       "      <th>Ücretsiz Staj Sayısı</th>\n",
       "    </tr>\n",
       "  </thead>\n",
       "  <tbody>\n",
       "    <tr>\n",
       "      <th>0</th>\n",
       "      <td>2017</td>\n",
       "      <td>Üniversite,Lise</td>\n",
       "      <td>30</td>\n",
       "      <td>29</td>\n",
       "      <td>30</td>\n",
       "      <td>30</td>\n",
       "      <td>YOK</td>\n",
       "    </tr>\n",
       "    <tr>\n",
       "      <th>1</th>\n",
       "      <td>2018</td>\n",
       "      <td>Üniversite,Lise</td>\n",
       "      <td>90</td>\n",
       "      <td>87</td>\n",
       "      <td>90</td>\n",
       "      <td>87</td>\n",
       "      <td>YOK</td>\n",
       "    </tr>\n",
       "    <tr>\n",
       "      <th>2</th>\n",
       "      <td>2019</td>\n",
       "      <td>Üniversite,Lise</td>\n",
       "      <td>70</td>\n",
       "      <td>67</td>\n",
       "      <td>70</td>\n",
       "      <td>67</td>\n",
       "      <td>YOK</td>\n",
       "    </tr>\n",
       "    <tr>\n",
       "      <th>3</th>\n",
       "      <td>2020</td>\n",
       "      <td>Üniversite,Lise</td>\n",
       "      <td>40</td>\n",
       "      <td>40</td>\n",
       "      <td>40</td>\n",
       "      <td>40</td>\n",
       "      <td>YOK</td>\n",
       "    </tr>\n",
       "    <tr>\n",
       "      <th>4</th>\n",
       "      <td>2021</td>\n",
       "      <td>Üniversite,Lise</td>\n",
       "      <td>70</td>\n",
       "      <td>64</td>\n",
       "      <td>70</td>\n",
       "      <td>64</td>\n",
       "      <td>YOK</td>\n",
       "    </tr>\n",
       "    <tr>\n",
       "      <th>5</th>\n",
       "      <td>2022</td>\n",
       "      <td>Üniversite,Lise</td>\n",
       "      <td>140</td>\n",
       "      <td>138</td>\n",
       "      <td>140</td>\n",
       "      <td>138</td>\n",
       "      <td>YOK</td>\n",
       "    </tr>\n",
       "    <tr>\n",
       "      <th>6</th>\n",
       "      <td>2023</td>\n",
       "      <td>Üniversite</td>\n",
       "      <td>200</td>\n",
       "      <td>177</td>\n",
       "      <td>200</td>\n",
       "      <td>177</td>\n",
       "      <td>YOK</td>\n",
       "    </tr>\n",
       "  </tbody>\n",
       "</table>\n",
       "</div>"
      ],
      "text/plain": [
       "   Dönem(Yıl)        Staj Tipi  Yaz Dönemi Staj Kontenjanı   \\\n",
       "0        2017  Üniversite,Lise                           30   \n",
       "1        2018  Üniversite,Lise                           90   \n",
       "2        2019  Üniversite,Lise                           70   \n",
       "3        2020  Üniversite,Lise                           40   \n",
       "4        2021  Üniversite,Lise                           70   \n",
       "5        2022  Üniversite,Lise                          140   \n",
       "6        2023       Üniversite                          200   \n",
       "\n",
       "   Yaz Dönemi Staj Yapan Sayısı  Dönem Staj Kontenjanı   \\\n",
       "0                            29                      30   \n",
       "1                            87                      90   \n",
       "2                            67                      70   \n",
       "3                            40                      40   \n",
       "4                            64                      70   \n",
       "5                           138                     140   \n",
       "6                           177                     200   \n",
       "\n",
       "   Dönem Staj Yapan Sayısı Ücretsiz Staj Sayısı  \n",
       "0                       30                  YOK  \n",
       "1                       87                  YOK  \n",
       "2                       67                  YOK  \n",
       "3                       40                  YOK  \n",
       "4                       64                  YOK  \n",
       "5                      138                  YOK  \n",
       "6                      177                  YOK  "
      ]
     },
     "execution_count": 91,
     "metadata": {},
     "output_type": "execute_result"
    }
   ],
   "source": [
    "df120.head(30)"
   ]
  },
  {
   "cell_type": "code",
   "execution_count": 81,
   "metadata": {},
   "outputs": [
    {
     "data": {
      "text/plain": [
       "Index(['yil', '28T1_tramvayi', '28T2_tramvayi'], dtype='object')"
      ]
     },
     "execution_count": 81,
     "metadata": {},
     "output_type": "execute_result"
    }
   ],
   "source": [
    "df49.columns"
   ]
  },
  {
   "cell_type": "code",
   "execution_count": 86,
   "metadata": {},
   "outputs": [
    {
     "data": {
      "text/plain": [
       "numpy.int64"
      ]
     },
     "execution_count": 86,
     "metadata": {},
     "output_type": "execute_result"
    }
   ],
   "source": [
    "type(df49[\"yil\"][0])"
   ]
  },
  {
   "cell_type": "code",
   "execution_count": 88,
   "metadata": {},
   "outputs": [
    {
     "name": "stdout",
     "output_type": "stream",
     "text": [
      "yil              False\n",
      "28T1_tramvayi    False\n",
      "28T2_tramvayi    False\n",
      "dtype: bool\n"
     ]
    }
   ],
   "source": [
    "print(df49.isnull().any())"
   ]
  },
  {
   "cell_type": "code",
   "execution_count": 89,
   "metadata": {},
   "outputs": [
    {
     "name": "stdout",
     "output_type": "stream",
     "text": [
      "Empty DataFrame\n",
      "Columns: [yil, 28T1_tramvayi, 28T2_tramvayi]\n",
      "Index: []\n"
     ]
    }
   ],
   "source": [
    "print(df49[df49.isnull().any(axis=1)])"
   ]
  },
  {
   "cell_type": "code",
   "execution_count": null,
   "metadata": {},
   "outputs": [],
   "source": []
  }
 ],
 "metadata": {
  "kernelspec": {
   "display_name": "Python 3",
   "language": "python",
   "name": "python3"
  },
  "language_info": {
   "codemirror_mode": {
    "name": "ipython",
    "version": 3
   },
   "file_extension": ".py",
   "mimetype": "text/x-python",
   "name": "python",
   "nbconvert_exporter": "python",
   "pygments_lexer": "ipython3",
   "version": "3.11.5"
  },
  "orig_nbformat": 4
 },
 "nbformat": 4,
 "nbformat_minor": 2
}
