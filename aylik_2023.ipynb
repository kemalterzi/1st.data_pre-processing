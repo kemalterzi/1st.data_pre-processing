{
 "cells": [
  {
   "cell_type": "code",
   "execution_count": 1,
   "metadata": {},
   "outputs": [],
   "source": [
    "import pandas as pd"
   ]
  },
  {
   "cell_type": "code",
   "execution_count": 79,
   "metadata": {},
   "outputs": [],
   "source": [
    "egitim = pd.read_excel(\"egitim_yardimi_2023_aylik.xlsx\")\n",
    "nakit = pd.read_excel(\"nakit_destegi_2023_aylik.xlsx\")\n",
    "sosyal = pd.read_excel(\"sosyal_kart_2023_aylik.xlsx\")\n",
    "su = pd.read_excel(\"su_fatura_destegi_2023_aylik.xlsx\")\n",
    "ulasim = pd.read_excel(\"ulasim_destegi_2023_aylik.xlsx\")"
   ]
  },
  {
   "cell_type": "code",
   "execution_count": 121,
   "metadata": {},
   "outputs": [
    {
     "data": {
      "text/html": [
       "<div>\n",
       "<style scoped>\n",
       "    .dataframe tbody tr th:only-of-type {\n",
       "        vertical-align: middle;\n",
       "    }\n",
       "\n",
       "    .dataframe tbody tr th {\n",
       "        vertical-align: top;\n",
       "    }\n",
       "\n",
       "    .dataframe thead th {\n",
       "        text-align: right;\n",
       "    }\n",
       "</style>\n",
       "<table border=\"1\" class=\"dataframe\">\n",
       "  <thead>\n",
       "    <tr style=\"text-align: right;\">\n",
       "      <th></th>\n",
       "      <th>yil</th>\n",
       "      <th>ay</th>\n",
       "      <th>ÖĞRENCİ SAYISI</th>\n",
       "      <th>PTT KOMİSYON</th>\n",
       "      <th>MİKTAR</th>\n",
       "    </tr>\n",
       "  </thead>\n",
       "  <tbody>\n",
       "    <tr>\n",
       "      <th>0</th>\n",
       "      <td>2023</td>\n",
       "      <td>1</td>\n",
       "      <td>12540</td>\n",
       "      <td>4175.7</td>\n",
       "      <td>2812750.0</td>\n",
       "    </tr>\n",
       "    <tr>\n",
       "      <th>1</th>\n",
       "      <td>2023</td>\n",
       "      <td>2</td>\n",
       "      <td>35151</td>\n",
       "      <td>54959.1</td>\n",
       "      <td>19746150.0</td>\n",
       "    </tr>\n",
       "    <tr>\n",
       "      <th>2</th>\n",
       "      <td>2023</td>\n",
       "      <td>3</td>\n",
       "      <td>12379</td>\n",
       "      <td>3885.9</td>\n",
       "      <td>2644300.0</td>\n",
       "    </tr>\n",
       "    <tr>\n",
       "      <th>3</th>\n",
       "      <td>2023</td>\n",
       "      <td>4</td>\n",
       "      <td>12428</td>\n",
       "      <td>3905.4</td>\n",
       "      <td>2655400.0</td>\n",
       "    </tr>\n",
       "    <tr>\n",
       "      <th>4</th>\n",
       "      <td>2023</td>\n",
       "      <td>5</td>\n",
       "      <td>12436</td>\n",
       "      <td>3908.1</td>\n",
       "      <td>2657300.0</td>\n",
       "    </tr>\n",
       "    <tr>\n",
       "      <th>5</th>\n",
       "      <td>2023</td>\n",
       "      <td>6</td>\n",
       "      <td>12443</td>\n",
       "      <td>3910.5</td>\n",
       "      <td>2658900.0</td>\n",
       "    </tr>\n",
       "    <tr>\n",
       "      <th>6</th>\n",
       "      <td>2023</td>\n",
       "      <td>7</td>\n",
       "      <td>1704</td>\n",
       "      <td>1533.6</td>\n",
       "      <td>511200.0</td>\n",
       "    </tr>\n",
       "    <tr>\n",
       "      <th>7</th>\n",
       "      <td>2023</td>\n",
       "      <td>8</td>\n",
       "      <td>1704</td>\n",
       "      <td>1533.6</td>\n",
       "      <td>511200.0</td>\n",
       "    </tr>\n",
       "    <tr>\n",
       "      <th>8</th>\n",
       "      <td>2023</td>\n",
       "      <td>9</td>\n",
       "      <td>0</td>\n",
       "      <td>0.0</td>\n",
       "      <td>0.0</td>\n",
       "    </tr>\n",
       "    <tr>\n",
       "      <th>9</th>\n",
       "      <td>2023</td>\n",
       "      <td>10</td>\n",
       "      <td>0</td>\n",
       "      <td>0.0</td>\n",
       "      <td>0.0</td>\n",
       "    </tr>\n",
       "    <tr>\n",
       "      <th>10</th>\n",
       "      <td>2023</td>\n",
       "      <td>11</td>\n",
       "      <td>0</td>\n",
       "      <td>0.0</td>\n",
       "      <td>0.0</td>\n",
       "    </tr>\n",
       "    <tr>\n",
       "      <th>11</th>\n",
       "      <td>2023</td>\n",
       "      <td>12</td>\n",
       "      <td>0</td>\n",
       "      <td>0.0</td>\n",
       "      <td>0.0</td>\n",
       "    </tr>\n",
       "  </tbody>\n",
       "</table>\n",
       "</div>"
      ],
      "text/plain": [
       "     yil  ay  ÖĞRENCİ SAYISI  PTT KOMİSYON      MİKTAR\n",
       "0   2023   1           12540        4175.7   2812750.0\n",
       "1   2023   2           35151       54959.1  19746150.0\n",
       "2   2023   3           12379        3885.9   2644300.0\n",
       "3   2023   4           12428        3905.4   2655400.0\n",
       "4   2023   5           12436        3908.1   2657300.0\n",
       "5   2023   6           12443        3910.5   2658900.0\n",
       "6   2023   7            1704        1533.6    511200.0\n",
       "7   2023   8            1704        1533.6    511200.0\n",
       "8   2023   9               0           0.0         0.0\n",
       "9   2023  10               0           0.0         0.0\n",
       "10  2023  11               0           0.0         0.0\n",
       "11  2023  12               0           0.0         0.0"
      ]
     },
     "execution_count": 121,
     "metadata": {},
     "output_type": "execute_result"
    }
   ],
   "source": [
    "egitim.head(50)"
   ]
  },
  {
   "cell_type": "code",
   "execution_count": 58,
   "metadata": {},
   "outputs": [
    {
     "data": {
      "text/plain": [
       "numpy.float64"
      ]
     },
     "execution_count": 58,
     "metadata": {},
     "output_type": "execute_result"
    }
   ],
   "source": [
    "type(egitim[\"destek_miktari\"][0])"
   ]
  },
  {
   "cell_type": "code",
   "execution_count": null,
   "metadata": {},
   "outputs": [],
   "source": [
    "egitim[\"destek_miktari\"] = egitim[\"destek_miktari\"].astype(int)"
   ]
  },
  {
   "cell_type": "code",
   "execution_count": 123,
   "metadata": {},
   "outputs": [
    {
     "data": {
      "text/plain": [
       "Index(['yil', 'ay', 'ÖĞRENCİ SAYISI', 'PTT KOMİSYON', 'MİKTAR'], dtype='object')"
      ]
     },
     "execution_count": 123,
     "metadata": {},
     "output_type": "execute_result"
    }
   ],
   "source": [
    "egitim.columns"
   ]
  },
  {
   "cell_type": "code",
   "execution_count": 124,
   "metadata": {},
   "outputs": [],
   "source": [
    "egitim = egitim.rename(columns={\"destek_miktari\":\"destek_miktari_(TL)\"})"
   ]
  },
  {
   "cell_type": "code",
   "execution_count": null,
   "metadata": {},
   "outputs": [],
   "source": [
    "egitim = egitim[[\"yil-ay\",\"destek_verilen_ogrenci_sayisi\",\"ptt_komisyonu\",\"destek_miktari\"]]"
   ]
  },
  {
   "cell_type": "code",
   "execution_count": 27,
   "metadata": {},
   "outputs": [
    {
     "data": {
      "text/plain": [
       "numpy.int64"
      ]
     },
     "execution_count": 27,
     "metadata": {},
     "output_type": "execute_result"
    }
   ],
   "source": [
    "type(egitim[\"ÖĞRENCİ SAYISI\"][0])"
   ]
  },
  {
   "cell_type": "code",
   "execution_count": 28,
   "metadata": {},
   "outputs": [],
   "source": [
    "egitim['yil-ay'] = egitim['yil'].astype(str) + '-' + egitim['ay'].astype(str).str.zfill(2)"
   ]
  },
  {
   "cell_type": "code",
   "execution_count": 29,
   "metadata": {},
   "outputs": [],
   "source": [
    "egitim['yil-ay'] = pd.to_datetime(egitim['yil-ay'])"
   ]
  },
  {
   "cell_type": "code",
   "execution_count": 30,
   "metadata": {},
   "outputs": [],
   "source": [
    "egitim['yil-ay'] = egitim['yil-ay'].dt.to_period('M')"
   ]
  },
  {
   "cell_type": "code",
   "execution_count": 71,
   "metadata": {},
   "outputs": [],
   "source": [
    "egitim.to_csv(\"temiz-egitim_yardimi_2023_aylik.csv\" ,header=True ,index=False)"
   ]
  },
  {
   "cell_type": "code",
   "execution_count": 91,
   "metadata": {},
   "outputs": [
    {
     "data": {
      "text/html": [
       "<div>\n",
       "<style scoped>\n",
       "    .dataframe tbody tr th:only-of-type {\n",
       "        vertical-align: middle;\n",
       "    }\n",
       "\n",
       "    .dataframe tbody tr th {\n",
       "        vertical-align: top;\n",
       "    }\n",
       "\n",
       "    .dataframe thead th {\n",
       "        text-align: right;\n",
       "    }\n",
       "</style>\n",
       "<table border=\"1\" class=\"dataframe\">\n",
       "  <thead>\n",
       "    <tr style=\"text-align: right;\">\n",
       "      <th></th>\n",
       "      <th>yil-ay</th>\n",
       "      <th>destek_verilen_kisi_sayisi</th>\n",
       "      <th>destek_miktari_(TL)</th>\n",
       "    </tr>\n",
       "  </thead>\n",
       "  <tbody>\n",
       "    <tr>\n",
       "      <th>0</th>\n",
       "      <td>2023-01</td>\n",
       "      <td>167</td>\n",
       "      <td>749164.15</td>\n",
       "    </tr>\n",
       "    <tr>\n",
       "      <th>1</th>\n",
       "      <td>2023-02</td>\n",
       "      <td>1081</td>\n",
       "      <td>374818.05</td>\n",
       "    </tr>\n",
       "    <tr>\n",
       "      <th>2</th>\n",
       "      <td>2023-03</td>\n",
       "      <td>2936</td>\n",
       "      <td>1156492.00</td>\n",
       "    </tr>\n",
       "    <tr>\n",
       "      <th>3</th>\n",
       "      <td>2023-04</td>\n",
       "      <td>1609</td>\n",
       "      <td>918516.18</td>\n",
       "    </tr>\n",
       "    <tr>\n",
       "      <th>4</th>\n",
       "      <td>2023-05</td>\n",
       "      <td>84</td>\n",
       "      <td>247815.58</td>\n",
       "    </tr>\n",
       "    <tr>\n",
       "      <th>5</th>\n",
       "      <td>2023-06</td>\n",
       "      <td>2381</td>\n",
       "      <td>1036420.63</td>\n",
       "    </tr>\n",
       "    <tr>\n",
       "      <th>6</th>\n",
       "      <td>2023-07</td>\n",
       "      <td>524</td>\n",
       "      <td>289728.11</td>\n",
       "    </tr>\n",
       "    <tr>\n",
       "      <th>7</th>\n",
       "      <td>2023-08</td>\n",
       "      <td>29</td>\n",
       "      <td>172550.00</td>\n",
       "    </tr>\n",
       "    <tr>\n",
       "      <th>8</th>\n",
       "      <td>2023-09</td>\n",
       "      <td>0</td>\n",
       "      <td>0.00</td>\n",
       "    </tr>\n",
       "    <tr>\n",
       "      <th>9</th>\n",
       "      <td>2023-10</td>\n",
       "      <td>0</td>\n",
       "      <td>0.00</td>\n",
       "    </tr>\n",
       "    <tr>\n",
       "      <th>10</th>\n",
       "      <td>2023-11</td>\n",
       "      <td>0</td>\n",
       "      <td>0.00</td>\n",
       "    </tr>\n",
       "    <tr>\n",
       "      <th>11</th>\n",
       "      <td>2023-12</td>\n",
       "      <td>0</td>\n",
       "      <td>0.00</td>\n",
       "    </tr>\n",
       "  </tbody>\n",
       "</table>\n",
       "</div>"
      ],
      "text/plain": [
       "     yil-ay  destek_verilen_kisi_sayisi  destek_miktari_(TL)\n",
       "0   2023-01                         167            749164.15\n",
       "1   2023-02                        1081            374818.05\n",
       "2   2023-03                        2936           1156492.00\n",
       "3   2023-04                        1609            918516.18\n",
       "4   2023-05                          84            247815.58\n",
       "5   2023-06                        2381           1036420.63\n",
       "6   2023-07                         524            289728.11\n",
       "7   2023-08                          29            172550.00\n",
       "8   2023-09                           0                 0.00\n",
       "9   2023-10                           0                 0.00\n",
       "10  2023-11                           0                 0.00\n",
       "11  2023-12                           0                 0.00"
      ]
     },
     "execution_count": 91,
     "metadata": {},
     "output_type": "execute_result"
    }
   ],
   "source": [
    "nakit.head(50)"
   ]
  },
  {
   "cell_type": "code",
   "execution_count": 88,
   "metadata": {},
   "outputs": [],
   "source": [
    "nakit.rename(columns={\"KİŞİ SAYISI\":\"destek_verilen_kisi_sayisi\"},inplace=True)"
   ]
  },
  {
   "cell_type": "code",
   "execution_count": 83,
   "metadata": {},
   "outputs": [],
   "source": [
    "nakit['yil-ay'] = nakit['yil'].astype(str) + '-' + nakit['ay'].astype(str).str.zfill(2)"
   ]
  },
  {
   "cell_type": "code",
   "execution_count": 84,
   "metadata": {},
   "outputs": [],
   "source": [
    "nakit['yil-ay'] = pd.to_datetime(nakit['yil-ay'])"
   ]
  },
  {
   "cell_type": "code",
   "execution_count": 85,
   "metadata": {},
   "outputs": [],
   "source": [
    "nakit['yil-ay'] = nakit['yil-ay'].dt.to_period('M')"
   ]
  },
  {
   "cell_type": "code",
   "execution_count": 86,
   "metadata": {},
   "outputs": [],
   "source": [
    "nakit.drop(columns={\"yil\",\"ay\"},inplace=True)"
   ]
  },
  {
   "cell_type": "code",
   "execution_count": 90,
   "metadata": {},
   "outputs": [],
   "source": [
    "nakit = nakit[[\"yil-ay\",\"destek_verilen_kisi_sayisi\",\"destek_miktari_(TL)\"]]"
   ]
  },
  {
   "cell_type": "code",
   "execution_count": 92,
   "metadata": {},
   "outputs": [],
   "source": [
    "nakit.to_csv(\"temiz-nakit_destegi_2023_aylik.csv\" ,header=True ,index=False)"
   ]
  },
  {
   "cell_type": "code",
   "execution_count": 97,
   "metadata": {},
   "outputs": [],
   "source": [
    "sosyal = sosyal.rename(columns={\"MİKTAR\":\"verilen_destek_miktarı\"})"
   ]
  },
  {
   "cell_type": "code",
   "execution_count": 100,
   "metadata": {},
   "outputs": [],
   "source": [
    "sosyal['yil-ay'] = sosyal['yil'].astype(str) + '-' + sosyal['ay'].astype(str).str.zfill(2)"
   ]
  },
  {
   "cell_type": "code",
   "execution_count": 101,
   "metadata": {},
   "outputs": [],
   "source": [
    "sosyal['yil-ay'] = pd.to_datetime(sosyal['yil-ay'])"
   ]
  },
  {
   "cell_type": "code",
   "execution_count": 104,
   "metadata": {},
   "outputs": [],
   "source": [
    "sosyal['yil-ay'] = sosyal['yil-ay'].dt.to_period('M')"
   ]
  },
  {
   "cell_type": "code",
   "execution_count": 106,
   "metadata": {},
   "outputs": [],
   "source": [
    "sosyal = sosyal.drop(columns={\"yil\",\"ay\"})"
   ]
  },
  {
   "cell_type": "code",
   "execution_count": 108,
   "metadata": {},
   "outputs": [
    {
     "data": {
      "text/plain": [
       "Index(['verilen_sosyal_kart_sayisi', 'destek_verilen_kisi_sayisi',\n",
       "       'verilen_destek_miktarı', 'yil-ay'],\n",
       "      dtype='object')"
      ]
     },
     "execution_count": 108,
     "metadata": {},
     "output_type": "execute_result"
    }
   ],
   "source": [
    "sosyal.columns"
   ]
  },
  {
   "cell_type": "code",
   "execution_count": 109,
   "metadata": {},
   "outputs": [],
   "source": [
    "sosyal = sosyal[[\"yil-ay\",\"verilen_sosyal_kart_sayisi\",\"destek_verilen_kisi_sayisi\",\"verilen_destek_miktarı\"]]"
   ]
  },
  {
   "cell_type": "code",
   "execution_count": 113,
   "metadata": {},
   "outputs": [
    {
     "data": {
      "text/html": [
       "<div>\n",
       "<style scoped>\n",
       "    .dataframe tbody tr th:only-of-type {\n",
       "        vertical-align: middle;\n",
       "    }\n",
       "\n",
       "    .dataframe tbody tr th {\n",
       "        vertical-align: top;\n",
       "    }\n",
       "\n",
       "    .dataframe thead th {\n",
       "        text-align: right;\n",
       "    }\n",
       "</style>\n",
       "<table border=\"1\" class=\"dataframe\">\n",
       "  <thead>\n",
       "    <tr style=\"text-align: right;\">\n",
       "      <th></th>\n",
       "      <th>yil-ay</th>\n",
       "      <th>verilen_sosyal_kart_sayisi</th>\n",
       "      <th>destek_verilen_kisi_sayisi</th>\n",
       "      <th>verilen_destek_miktari</th>\n",
       "    </tr>\n",
       "  </thead>\n",
       "  <tbody>\n",
       "    <tr>\n",
       "      <th>0</th>\n",
       "      <td>2023-01</td>\n",
       "      <td>11443</td>\n",
       "      <td>39362</td>\n",
       "      <td>16592500.0</td>\n",
       "    </tr>\n",
       "    <tr>\n",
       "      <th>1</th>\n",
       "      <td>2023-02</td>\n",
       "      <td>12330</td>\n",
       "      <td>43012</td>\n",
       "      <td>17232888.5</td>\n",
       "    </tr>\n",
       "    <tr>\n",
       "      <th>2</th>\n",
       "      <td>2023-03</td>\n",
       "      <td>12397</td>\n",
       "      <td>42927</td>\n",
       "      <td>17559000.0</td>\n",
       "    </tr>\n",
       "    <tr>\n",
       "      <th>3</th>\n",
       "      <td>2023-04</td>\n",
       "      <td>11749</td>\n",
       "      <td>40346</td>\n",
       "      <td>17006500.0</td>\n",
       "    </tr>\n",
       "    <tr>\n",
       "      <th>4</th>\n",
       "      <td>2023-05</td>\n",
       "      <td>10762</td>\n",
       "      <td>36138</td>\n",
       "      <td>15385500.0</td>\n",
       "    </tr>\n",
       "    <tr>\n",
       "      <th>5</th>\n",
       "      <td>2023-06</td>\n",
       "      <td>10464</td>\n",
       "      <td>34538</td>\n",
       "      <td>14822000.0</td>\n",
       "    </tr>\n",
       "    <tr>\n",
       "      <th>6</th>\n",
       "      <td>2023-07</td>\n",
       "      <td>10254</td>\n",
       "      <td>33187</td>\n",
       "      <td>14396000.0</td>\n",
       "    </tr>\n",
       "    <tr>\n",
       "      <th>7</th>\n",
       "      <td>2023-08</td>\n",
       "      <td>9956</td>\n",
       "      <td>31170</td>\n",
       "      <td>13778500.0</td>\n",
       "    </tr>\n",
       "    <tr>\n",
       "      <th>8</th>\n",
       "      <td>2023-09</td>\n",
       "      <td>0</td>\n",
       "      <td>0</td>\n",
       "      <td>0.0</td>\n",
       "    </tr>\n",
       "    <tr>\n",
       "      <th>9</th>\n",
       "      <td>2023-10</td>\n",
       "      <td>0</td>\n",
       "      <td>0</td>\n",
       "      <td>0.0</td>\n",
       "    </tr>\n",
       "    <tr>\n",
       "      <th>10</th>\n",
       "      <td>2023-11</td>\n",
       "      <td>0</td>\n",
       "      <td>0</td>\n",
       "      <td>0.0</td>\n",
       "    </tr>\n",
       "    <tr>\n",
       "      <th>11</th>\n",
       "      <td>2023-12</td>\n",
       "      <td>0</td>\n",
       "      <td>0</td>\n",
       "      <td>0.0</td>\n",
       "    </tr>\n",
       "  </tbody>\n",
       "</table>\n",
       "</div>"
      ],
      "text/plain": [
       "     yil-ay  verilen_sosyal_kart_sayisi  destek_verilen_kisi_sayisi  \\\n",
       "0   2023-01                       11443                       39362   \n",
       "1   2023-02                       12330                       43012   \n",
       "2   2023-03                       12397                       42927   \n",
       "3   2023-04                       11749                       40346   \n",
       "4   2023-05                       10762                       36138   \n",
       "5   2023-06                       10464                       34538   \n",
       "6   2023-07                       10254                       33187   \n",
       "7   2023-08                        9956                       31170   \n",
       "8   2023-09                           0                           0   \n",
       "9   2023-10                           0                           0   \n",
       "10  2023-11                           0                           0   \n",
       "11  2023-12                           0                           0   \n",
       "\n",
       "    verilen_destek_miktari  \n",
       "0               16592500.0  \n",
       "1               17232888.5  \n",
       "2               17559000.0  \n",
       "3               17006500.0  \n",
       "4               15385500.0  \n",
       "5               14822000.0  \n",
       "6               14396000.0  \n",
       "7               13778500.0  \n",
       "8                      0.0  \n",
       "9                      0.0  \n",
       "10                     0.0  \n",
       "11                     0.0  "
      ]
     },
     "execution_count": 113,
     "metadata": {},
     "output_type": "execute_result"
    }
   ],
   "source": [
    "sosyal.head(50)"
   ]
  },
  {
   "cell_type": "code",
   "execution_count": 112,
   "metadata": {},
   "outputs": [],
   "source": [
    "sosyal = sosyal.rename(columns={\"verilen_destek_miktarı\":\"verilen_destek_miktari\"})"
   ]
  },
  {
   "cell_type": "code",
   "execution_count": 114,
   "metadata": {},
   "outputs": [],
   "source": [
    "sosyal.to_csv(\"temiz-sosyal_kart_2023_aylik.csv\" ,header=True ,index=False)"
   ]
  },
  {
   "cell_type": "code",
   "execution_count": 119,
   "metadata": {},
   "outputs": [
    {
     "data": {
      "text/html": [
       "<div>\n",
       "<style scoped>\n",
       "    .dataframe tbody tr th:only-of-type {\n",
       "        vertical-align: middle;\n",
       "    }\n",
       "\n",
       "    .dataframe tbody tr th {\n",
       "        vertical-align: top;\n",
       "    }\n",
       "\n",
       "    .dataframe thead th {\n",
       "        text-align: right;\n",
       "    }\n",
       "</style>\n",
       "<table border=\"1\" class=\"dataframe\">\n",
       "  <thead>\n",
       "    <tr style=\"text-align: right;\">\n",
       "      <th></th>\n",
       "      <th>yil</th>\n",
       "      <th>ay</th>\n",
       "      <th>destek_verilen_abone_sayisi</th>\n",
       "      <th>bedeli_karsilanan_su_miktari_(m3)</th>\n",
       "      <th>MİKTAR</th>\n",
       "    </tr>\n",
       "  </thead>\n",
       "  <tbody>\n",
       "    <tr>\n",
       "      <th>0</th>\n",
       "      <td>2023</td>\n",
       "      <td>1</td>\n",
       "      <td>879</td>\n",
       "      <td>7074</td>\n",
       "      <td>59229.47</td>\n",
       "    </tr>\n",
       "    <tr>\n",
       "      <th>1</th>\n",
       "      <td>2023</td>\n",
       "      <td>2</td>\n",
       "      <td>931</td>\n",
       "      <td>7467</td>\n",
       "      <td>92915.10</td>\n",
       "    </tr>\n",
       "    <tr>\n",
       "      <th>2</th>\n",
       "      <td>2023</td>\n",
       "      <td>3</td>\n",
       "      <td>940</td>\n",
       "      <td>7524</td>\n",
       "      <td>91269.34</td>\n",
       "    </tr>\n",
       "    <tr>\n",
       "      <th>3</th>\n",
       "      <td>2023</td>\n",
       "      <td>4</td>\n",
       "      <td>2332</td>\n",
       "      <td>17775</td>\n",
       "      <td>222526.49</td>\n",
       "    </tr>\n",
       "    <tr>\n",
       "      <th>4</th>\n",
       "      <td>2023</td>\n",
       "      <td>5</td>\n",
       "      <td>2803</td>\n",
       "      <td>34501</td>\n",
       "      <td>341576.74</td>\n",
       "    </tr>\n",
       "  </tbody>\n",
       "</table>\n",
       "</div>"
      ],
      "text/plain": [
       "    yil  ay  destek_verilen_abone_sayisi  bedeli_karsilanan_su_miktari_(m3)  \\\n",
       "0  2023   1                          879                               7074   \n",
       "1  2023   2                          931                               7467   \n",
       "2  2023   3                          940                               7524   \n",
       "3  2023   4                         2332                              17775   \n",
       "4  2023   5                         2803                              34501   \n",
       "\n",
       "      MİKTAR  \n",
       "0   59229.47  \n",
       "1   92915.10  \n",
       "2   91269.34  \n",
       "3  222526.49  \n",
       "4  341576.74  "
      ]
     },
     "execution_count": 119,
     "metadata": {},
     "output_type": "execute_result"
    }
   ],
   "source": [
    "su.head()"
   ]
  },
  {
   "cell_type": "code",
   "execution_count": 118,
   "metadata": {},
   "outputs": [],
   "source": [
    "su = su.rename(columns={\"miktar\" : \"bedeli_karsilanan_su_miktari_(m3)\"})"
   ]
  },
  {
   "cell_type": "code",
   "execution_count": null,
   "metadata": {},
   "outputs": [],
   "source": []
  }
 ],
 "metadata": {
  "kernelspec": {
   "display_name": "Python 3",
   "language": "python",
   "name": "python3"
  },
  "language_info": {
   "codemirror_mode": {
    "name": "ipython",
    "version": 3
   },
   "file_extension": ".py",
   "mimetype": "text/x-python",
   "name": "python",
   "nbconvert_exporter": "python",
   "pygments_lexer": "ipython3",
   "version": "3.11.5"
  }
 },
 "nbformat": 4,
 "nbformat_minor": 2
}
