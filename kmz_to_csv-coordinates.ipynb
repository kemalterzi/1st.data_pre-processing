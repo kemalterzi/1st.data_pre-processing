{
 "cells": [
  {
   "cell_type": "code",
   "execution_count": 14,
   "metadata": {},
   "outputs": [],
   "source": [
    "import zipfile\n",
    "import xml.etree.ElementTree as ET\n",
    "import csv"
   ]
  },
  {
   "cell_type": "code",
   "execution_count": 15,
   "metadata": {},
   "outputs": [],
   "source": [
    "#kmz_path = r\"/Users/kemalterzi/Desktop/yenigelenler/düzensiz/103_2023 Bisiklet Tamir İstasyonları.kmz\""
   ]
  },
  {
   "cell_type": "code",
   "execution_count": 16,
   "metadata": {},
   "outputs": [],
   "source": [
    "def kmz_to_kml(kmz_path):\n",
    "    # KMZ dosyasını açarak içindeki KML dosyasını al\n",
    "    with zipfile.ZipFile(kmz_path, 'r') as kmz:\n",
    "        kml_file = kmz.extract(kmz.namelist()[0])\n",
    "    return kml_file"
   ]
  },
  {
   "cell_type": "code",
   "execution_count": 17,
   "metadata": {},
   "outputs": [],
   "source": [
    "def parse_kml(kml_file):\n",
    "    # KML dosyasını parse et\n",
    "    tree = ET.parse(kml_file)\n",
    "    root = tree.getroot()\n",
    "\n",
    "    # Coğrafi verileri çıkart\n",
    "    coordinates = []\n",
    "    for placemark in root.findall('.//{http://www.opengis.net/kml/2.2}coordinates'):\n",
    "        coordinates.extend(placemark.text.strip().split())\n",
    "\n",
    "    return coordinates\n"
   ]
  },
  {
   "cell_type": "code",
   "execution_count": 18,
   "metadata": {},
   "outputs": [],
   "source": [
    "def save_to_csv(coordinates, csv_path):\n",
    "    # Coğrafi verileri CSV dosyasına yaz\n",
    "    with open(csv_path, 'w', newline='') as csvfile:\n",
    "        writer = csv.writer(csvfile)\n",
    "        for coordinate in coordinates:\n",
    "            writer.writerow(coordinate.split(','))"
   ]
  },
  {
   "cell_type": "code",
   "execution_count": 19,
   "metadata": {},
   "outputs": [],
   "source": [
    "if __name__ == \"__main__\":\n",
    "    kmz_path = r'/Users/kemalterzi/Desktop/yenigelenler/düzensiz/103_2023 Bisiklet Tamir İstasyonları.kmz'  # KMZ dosya yolu\n",
    "    kml_file = kmz_to_kml(kmz_path)\n",
    "    coordinates = parse_kml(kml_file)\n",
    "    csv_path = 'output.csv'  # CSV dosya yolu\n",
    "    save_to_csv(coordinates, csv_path)"
   ]
  },
  {
   "cell_type": "code",
   "execution_count": null,
   "metadata": {},
   "outputs": [],
   "source": []
  }
 ],
 "metadata": {
  "kernelspec": {
   "display_name": "Python 3",
   "language": "python",
   "name": "python3"
  },
  "language_info": {
   "codemirror_mode": {
    "name": "ipython",
    "version": 3
   },
   "file_extension": ".py",
   "mimetype": "text/x-python",
   "name": "python",
   "nbconvert_exporter": "python",
   "pygments_lexer": "ipython3",
   "version": "3.11.5"
  },
  "orig_nbformat": 4
 },
 "nbformat": 4,
 "nbformat_minor": 2
}
