{
 "cells": [
  {
   "cell_type": "code",
   "execution_count": 5,
   "metadata": {},
   "outputs": [],
   "source": [
    "import json"
   ]
  },
  {
   "cell_type": "code",
   "execution_count": 6,
   "metadata": {},
   "outputs": [],
   "source": [
    "with open('140_Mahalle Yolu Ağı.geojson', encoding='utf-8') as f:\n",
    "    geojson_data = json.load(f)"
   ]
  },
  {
   "cell_type": "code",
   "execution_count": 7,
   "metadata": {},
   "outputs": [],
   "source": [
    "for feature in geojson_data['features']:\n",
    "    if feature['geometry']['type'] == 'MultiLineString':\n",
    "        for line in feature['geometry']['coordinates']:\n",
    "            for i, coord in enumerate(line):\n",
    "                line[i] = [coord[1], coord[0]]\n",
    "    else:\n",
    "        coordinates = feature['geometry']['coordinates']\n",
    "        feature['geometry']['coordinates'] = [coordinates[1], coordinates[0]]"
   ]
  },
  {
   "cell_type": "code",
   "execution_count": 8,
   "metadata": {},
   "outputs": [],
   "source": [
    "with open('temiz-140_mahalle_yolu_agi.geojson', 'w', encoding='utf-8') as f:\n",
    "    json.dump(geojson_data, f, ensure_ascii=False)"
   ]
  },
  {
   "cell_type": "code",
   "execution_count": null,
   "metadata": {},
   "outputs": [],
   "source": []
  }
 ],
 "metadata": {
  "kernelspec": {
   "display_name": "Python 3",
   "language": "python",
   "name": "python3"
  },
  "language_info": {
   "codemirror_mode": {
    "name": "ipython",
    "version": 3
   },
   "file_extension": ".py",
   "mimetype": "text/x-python",
   "name": "python",
   "nbconvert_exporter": "python",
   "pygments_lexer": "ipython3",
   "version": "3.11.5"
  },
  "orig_nbformat": 4
 },
 "nbformat": 4,
 "nbformat_minor": 2
}
